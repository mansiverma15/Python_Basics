{
  "nbformat": 4,
  "nbformat_minor": 0,
  "metadata": {
    "colab": {
      "provenance": []
    },
    "kernelspec": {
      "name": "python3",
      "display_name": "Python 3"
    },
    "language_info": {
      "name": "python"
    }
  },
  "cells": [
    {
      "cell_type": "markdown",
      "source": [
        "#Python Basics Questions"
      ],
      "metadata": {
        "id": "bAkpPb7A6DkQ"
      }
    },
    {
      "cell_type": "markdown",
      "source": [
        "1. What is Python, and why is it popular?\n",
        " - Python is a highly used programming language which is used to write codes to instruct the computer. It is a very popular language because it is beginer-friendly, easy to read, widely used amongst the industries and has a variety of libraries which no other language has.\n",
        "\n",
        "\n",
        "2. What is an interpreter in Python?\n",
        " - An interpreter in Python is a program that runs python code in line-by-line, translating it into machine-readable format.\n",
        "\n",
        "\n",
        "3. What are pre-defined keywords in Python?\n",
        " - Predefined keywords are the reserved words defined in python language with specific meaning and they should not be used as a variable. Example: print, list, tuples, try, etc.\n",
        "\n",
        "\n",
        "4. Can keywords be used as variable names?\n",
        " - Keywords in python cannot be used as a variable, as they are reserved words defined by the language and have specific meaning. Attempting to use them as variable names will result in a syntax error.\n",
        "\n",
        "\n",
        "5. What is mutability in Python?\n",
        " - Mutability is the object's ability to be changed after it has been created.\n",
        "  Mutable objects can be modified and updated.  Some example of mutable objects: Lists, dictionaries, etc.\n",
        "\n",
        "\n",
        "6. Why are lists mutable, but tuples are immutable?\n",
        " - Lists are designed for dynamic operations where elements can be updated, changed or removed after the list is created. Their mutability makes them flexible and ideal for dynamic data structures. On the contrary, Tuples are designed to represent a fixed collection of item where the data should remain constant and can't be modified.\n",
        "\n",
        "\n",
        "7. What is the difference between “==” and “is” operators in Python?\n",
        " - The \"==\" and \"is\" are both operators in the python language which is used to make comparison between two objects. The \"==\" operator is the Equality operator and check whether two abjects are same value. Wherein, the \"is\" operator is the Identity operator and it is used determine whether two objects occupy the same memory location.\n",
        "\n",
        "\n",
        "8. What are logical operators in Python?\n",
        " - Logical operators are used to logically check multiple conditions make decisions on those conditions. They allow us to combine different expressions and control the flow of execution in the program. In other words, these operators are used to check multiple conditions at once and help decide what happens next in the program.\n",
        "\n",
        "\n",
        "9. What is type casting in Python?\n",
        " - Typecasting the method to change the data type of a value. It is the process of converting one data type to another. It can be done using functions like int(), float(), str(), etc or it can also be done automatically by python.\n",
        "\n",
        "\n",
        " 10. What is the difference between implicit and explicit type casting?\n",
        "  - Implicit type casting a.k.a type coercion occurs when python automatically converts one data type into another. This generally happens when small data type like int is combined with a large data type like float. This doesn't require any special syntax and is done automatically by python to ensure that no data is lost during the process. On the other hand, Explicit type casting which is also reffered to as type conversion happens when programmer mannually one data type using another data type using funtions like int(), float(), str(), etc.\n",
        "\n",
        "\n",
        "11. What is the purpose of conditional statements in Python?\n",
        " - Conditional statement in python are used to execute a block of code based on whether the condition is True or False. They helps in controling the flow of the program which allows to make decisions. The main conditional statements in Python are if, elif, and else.\n",
        "\n",
        "\n",
        "12. How does the elif statement work?\n",
        " - elif statement stands for the else if statement is used to check more than one condition if the initial if condition is false. It allows to check multiple conditions in sequence. If the if condition is false and the elif condition is true, the associated block of code will execute.\n",
        "\n",
        "\n",
        "13. What is the difference between for and while loop?\n",
        " - A for loop is used when we know how many times we want to repeat a block of code. It goes through each item in a list or range and runs the code for each item. Wherin, a while loop keeps repeating a block of code as long as a condition is true. We don't always know how many times it will repeat, it depends on the condition.\n",
        "\n",
        "\n",
        "14. Describe a scenario where a while loop is more suitable than a for loop.\n",
        " - A while loop is more suitable than a for loop in situations where we don't know in advance how many times we need to repeat a block of code, but we want to keep looping until a specific condition is met.\n",
        " Example: When we are building a game where a player has to keep guessing a secret number. The loop should continue until the player guesses the number correctly, but we don't know how many attempts it will take. So, in this case we'll use the while loop.\n",
        "\n",
        "\n"
      ],
      "metadata": {
        "id": "Qo06ylCh6waG"
      }
    },
    {
      "cell_type": "markdown",
      "source": [
        "#Practical Questions"
      ],
      "metadata": {
        "id": "wSXAX1IRS_0i"
      }
    },
    {
      "cell_type": "code",
      "source": [
        "# 1) Write a Python program to print \"Hello, World!\""
      ],
      "metadata": {
        "id": "KUYJc0NSV74V"
      },
      "execution_count": null,
      "outputs": []
    },
    {
      "cell_type": "code",
      "source": [
        "a = \"Hello, World!\"\n",
        "print(a)"
      ],
      "metadata": {
        "id": "5ViA8hSs6g7d",
        "colab": {
          "base_uri": "https://localhost:8080/"
        },
        "outputId": "8cb95d77-e6db-4bb2-f34b-d74a376b61a3"
      },
      "execution_count": null,
      "outputs": [
        {
          "output_type": "stream",
          "name": "stdout",
          "text": [
            "Hello, World!\n"
          ]
        }
      ]
    },
    {
      "cell_type": "code",
      "source": [
        "# 2) Write a Python program that displays your name and age."
      ],
      "metadata": {
        "id": "f4yrfNwqVcFe"
      },
      "execution_count": null,
      "outputs": []
    },
    {
      "cell_type": "code",
      "source": [
        "name = input(\"Please enter your name: \")\n",
        "age = int(input(\"Please enter your age: \"))\n",
        "result = \"My name is {} and I am {} years old.\".format(name, age)\n",
        "print(result)"
      ],
      "metadata": {
        "colab": {
          "base_uri": "https://localhost:8080/"
        },
        "id": "6wi9eDxpTdKB",
        "outputId": "a30fefb1-4f10-4217-cced-18fb8d6cf286"
      },
      "execution_count": null,
      "outputs": [
        {
          "output_type": "stream",
          "name": "stdout",
          "text": [
            "Please enter your name: Mansi\n",
            "Please enter your age: 25\n",
            "My name is Mansi and I am 25 years old.\n"
          ]
        }
      ]
    },
    {
      "cell_type": "code",
      "source": [
        "# 3) Write code to print all the pre-defined keywords in Python using the keyword library"
      ],
      "metadata": {
        "id": "SExwmxafVSU4"
      },
      "execution_count": null,
      "outputs": []
    },
    {
      "cell_type": "code",
      "source": [
        "help('keywords')"
      ],
      "metadata": {
        "colab": {
          "base_uri": "https://localhost:8080/"
        },
        "id": "JlLkMewJWeOD",
        "outputId": "d731b2e5-15bd-426e-921d-6c73f488dc0c"
      },
      "execution_count": null,
      "outputs": [
        {
          "output_type": "stream",
          "name": "stdout",
          "text": [
            "\n",
            "Here is a list of the Python keywords.  Enter any keyword to get more help.\n",
            "\n",
            "False               class               from                or\n",
            "None                continue            global              pass\n",
            "True                def                 if                  raise\n",
            "and                 del                 import              return\n",
            "as                  elif                in                  try\n",
            "assert              else                is                  while\n",
            "async               except              lambda              with\n",
            "await               finally             nonlocal            yield\n",
            "break               for                 not                 \n",
            "\n"
          ]
        }
      ]
    },
    {
      "cell_type": "code",
      "source": [
        "# 4) Write a program that checks if a given word is a Python keyword."
      ],
      "metadata": {
        "id": "RL28bk0oWj3w"
      },
      "execution_count": null,
      "outputs": []
    },
    {
      "cell_type": "code",
      "source": [
        "word = \"break\"\n",
        "import keyword\n",
        "if keyword.iskeyword(word):\n",
        "  print(\"It is a keyword\")\n",
        "else:\n",
        "  print(\"It is not a keyword\")"
      ],
      "metadata": {
        "colab": {
          "base_uri": "https://localhost:8080/"
        },
        "id": "cyblQlOVGe6P",
        "outputId": "025ea074-6b3f-4918-d60c-597d8e3d1e0d"
      },
      "execution_count": null,
      "outputs": [
        {
          "output_type": "stream",
          "name": "stdout",
          "text": [
            "It is a keyword\n"
          ]
        }
      ]
    },
    {
      "cell_type": "code",
      "source": [
        "# 5) Create a list and tuple in Python, and demonstrate how attempting to change an element works differently for each."
      ],
      "metadata": {
        "id": "s8AmWYEqHsJ-"
      },
      "execution_count": null,
      "outputs": []
    },
    {
      "cell_type": "code",
      "source": [
        "# Creating a list\n",
        "my_list = [1, 2, 3.3, \"Mansi\"]\n",
        "print(\"Original List:\", my_list)\n",
        "\n",
        "# Modifying an element in the list\n",
        "my_list[1] = 10\n",
        "print(\"Modified List:\", my_list)  # List allows modification\n",
        "\n",
        "# Creating a tuple\n",
        "my_tuple = (1, 2, 3.3, \"Mansi\")\n",
        "print(\"\\nOriginal Tuple:\", my_tuple)\n",
        "\n",
        "# Attempting to modify an element in the tuple (This will cause an error)\n",
        "try:\n",
        "    my_tuple[1] = 10  # This is not allowed\n",
        "except TypeError as e:\n",
        "    print(\"Error:\", e)  # Tuples do not support item assignment"
      ],
      "metadata": {
        "colab": {
          "base_uri": "https://localhost:8080/"
        },
        "id": "rii1GooQKCfm",
        "outputId": "8aa5dfe4-d744-4c33-9402-63fb79bc7f1f"
      },
      "execution_count": null,
      "outputs": [
        {
          "output_type": "stream",
          "name": "stdout",
          "text": [
            "Original List: [1, 2, 3.3, 'Mansi']\n",
            "Modified List: [1, 10, 3.3, 'Mansi']\n",
            "\n",
            "Original Tuple: (1, 2, 3.3, 'Mansi')\n",
            "Error: 'tuple' object does not support item assignment\n"
          ]
        }
      ]
    },
    {
      "cell_type": "code",
      "source": [
        "# 6) Write a function to demonstrate the behavior of mutable and immutable arguments."
      ],
      "metadata": {
        "id": "HOOQxoioJVwJ"
      },
      "execution_count": null,
      "outputs": []
    },
    {
      "cell_type": "code",
      "source": [
        "# Immutable Example (Integer)\n",
        "x = 5\n",
        "print(\"Before change, x:\", x)\n",
        "\n",
        "x = x + 10  # This creates a new integer, does NOT change the original x\n",
        "print(\"After change, x:\", x)  # x is now 15, but original 5 is lost\n",
        "\n",
        "print(\"\\n\")  # Just for spacing in output\n",
        "\n",
        "# Mutable Example (List)\n",
        "y = [1, 2, 3]\n",
        "print(\"Before change, y:\", y)\n",
        "\n",
        "y.append(4)  # This changes the original list\n",
        "print(\"After change, y:\", y)  # The list is modified"
      ],
      "metadata": {
        "colab": {
          "base_uri": "https://localhost:8080/"
        },
        "id": "KiDUZV0BJq34",
        "outputId": "8fb46f2d-08fe-4c55-abb8-03ec40837c1b"
      },
      "execution_count": null,
      "outputs": [
        {
          "output_type": "stream",
          "name": "stdout",
          "text": [
            "Before change, x: 5\n",
            "After change, x: 15\n",
            "\n",
            "\n",
            "Before change, y: [1, 2, 3]\n",
            "After change, y: [1, 2, 3, 4]\n"
          ]
        }
      ]
    },
    {
      "cell_type": "code",
      "source": [
        "# 7) Write a function to demonstrate the behavior of mutable and immutable arguments."
      ],
      "metadata": {
        "id": "F3hFAaY2K2rA"
      },
      "execution_count": null,
      "outputs": []
    },
    {
      "cell_type": "code",
      "source": [
        "# Immutable Example (Integer)\n",
        "x = 5\n",
        "print(\"Before change, x:\", x)\n",
        "\n",
        "x = x + 10  # This creates a new integer, does NOT change the original x\n",
        "print(\"After change, x:\", x)  # x is now 15, but original 5 is lost\n",
        "\n",
        "print(\"\\n\")  # Just for spacing in output\n",
        "\n",
        "# Mutable Example (List)\n",
        "y = [1, 2, 3]\n",
        "print(\"Before change, y:\", y)\n",
        "\n",
        "y.append(4)  # This changes the original list\n",
        "print(\"After change, y:\", y)  # The list is modified"
      ],
      "metadata": {
        "colab": {
          "base_uri": "https://localhost:8080/"
        },
        "id": "MeRohj5TLxfT",
        "outputId": "33fe6522-3ca7-4782-f8db-3be460dadbb2"
      },
      "execution_count": null,
      "outputs": [
        {
          "output_type": "stream",
          "name": "stdout",
          "text": [
            "Before change, x: 5\n",
            "After change, x: 15\n",
            "\n",
            "\n",
            "Before change, y: [1, 2, 3]\n",
            "After change, y: [1, 2, 3, 4]\n"
          ]
        }
      ]
    },
    {
      "cell_type": "code",
      "source": [
        "# 8) Write a program to demonstrate the use of logical operators."
      ],
      "metadata": {
        "id": "fcsyzIMAMYog"
      },
      "execution_count": null,
      "outputs": []
    },
    {
      "cell_type": "code",
      "source": [
        "# Logical AND Operator\n",
        "x = True\n",
        "y = False\n",
        "result = x and y\n",
        "print(\"Logical AND Result:\", result)  # Output: Logical AND Result: False\n",
        "\n",
        "print(\"\\n\")\n",
        "\n",
        "# Logical OR Operator\n",
        "x = True\n",
        "y = False\n",
        "result = x or y\n",
        "print(\"Logical OR Result:\", result)\n",
        "\n",
        "print(\"\\n\")\n",
        "\n",
        "#Logical NOT Operator\n",
        "x = True\n",
        "result = not x\n",
        "print(\"Logical NOT Result:\", result)\n"
      ],
      "metadata": {
        "colab": {
          "base_uri": "https://localhost:8080/"
        },
        "id": "pO5xD3uGMgZC",
        "outputId": "c05b0491-e91b-4586-9bc7-482409901b16"
      },
      "execution_count": null,
      "outputs": [
        {
          "output_type": "stream",
          "name": "stdout",
          "text": [
            "Logical AND Result: False\n",
            "\n",
            "\n",
            "Logical OR Result: True\n",
            "\n",
            "\n",
            "Logical NOT Result: False\n"
          ]
        }
      ]
    },
    {
      "cell_type": "code",
      "source": [
        "# 9) Write a Python program to convert user input from string to integer, float, and boolean types."
      ],
      "metadata": {
        "id": "ogDo2lXTN5hD"
      },
      "execution_count": null,
      "outputs": []
    },
    {
      "cell_type": "code",
      "source": [
        "Age = input(\"Enter your age: \")\n",
        "print(\"\\n\")\n",
        "type(Age)\n",
        "int(Age)\n",
        "print(int(Age))\n",
        "print(\"\\n\")\n",
        "float(Age)\n",
        "print(float(Age))\n",
        "print(\"\\n\")\n",
        "bool(Age)\n",
        "print(bool(Age))"
      ],
      "metadata": {
        "colab": {
          "base_uri": "https://localhost:8080/"
        },
        "id": "MNgJZpeWOdWQ",
        "outputId": "f178546d-e693-4602-83d9-043b6cf77bcd"
      },
      "execution_count": null,
      "outputs": [
        {
          "output_type": "stream",
          "name": "stdout",
          "text": [
            "Enter your age: 25\n",
            "\n",
            "\n",
            "25\n",
            "\n",
            "\n",
            "25.0\n",
            "\n",
            "\n",
            "True\n"
          ]
        }
      ]
    },
    {
      "cell_type": "code",
      "source": [
        "# 10)Write code to demonstrate type casting with list elements."
      ],
      "metadata": {
        "id": "mdmvnqhjPO24"
      },
      "execution_count": null,
      "outputs": []
    },
    {
      "cell_type": "code",
      "source": [
        "my_list = ['1', '2', '3']\n",
        "for i in range(len(my_list)):\n",
        "  my_list[i] = int(my_list[i])\n",
        "print(my_list)"
      ],
      "metadata": {
        "colab": {
          "base_uri": "https://localhost:8080/"
        },
        "id": "LCv7qg10SvMP",
        "outputId": "270b7588-6761-4f63-cb54-fb991437c9d8"
      },
      "execution_count": 3,
      "outputs": [
        {
          "output_type": "stream",
          "name": "stdout",
          "text": [
            "[1, 2, 3]\n"
          ]
        }
      ]
    },
    {
      "cell_type": "code",
      "source": [
        "# 11)Write a program that checks if a number is positive, negative, or zero."
      ],
      "metadata": {
        "id": "R8Zt8hNrYkFj"
      },
      "execution_count": null,
      "outputs": []
    },
    {
      "cell_type": "code",
      "source": [
        "x = int(input(\"Enter a value: \"))\n",
        "if x > 0:\n",
        "    print(\"\\nThis is a positive number.\")\n",
        "elif x < 0:\n",
        "    print(\"\\nThis is a negative number.\")\n",
        "else:\n",
        "    print(\"\\nThis is zero.\")"
      ],
      "metadata": {
        "colab": {
          "base_uri": "https://localhost:8080/"
        },
        "id": "knb1psdsZtuf",
        "outputId": "ae42754b-863f-46d0-c163-a372ae06c3f2"
      },
      "execution_count": null,
      "outputs": [
        {
          "output_type": "stream",
          "name": "stdout",
          "text": [
            "Enter a value: 0\n",
            "\n",
            "This is zero.\n"
          ]
        }
      ]
    },
    {
      "cell_type": "code",
      "source": [
        "# 12)Write a for loop to print numbers from 1 to 100."
      ],
      "metadata": {
        "id": "CBcoCHk4dJW_"
      },
      "execution_count": null,
      "outputs": []
    },
    {
      "cell_type": "code",
      "source": [
        "range(0, 101)\n",
        "for i in range(0, 101):\n",
        "  print(i, end = \" \")"
      ],
      "metadata": {
        "colab": {
          "base_uri": "https://localhost:8080/"
        },
        "id": "HzMS0BqYdjug",
        "outputId": "81878d19-d1f9-4449-8f0a-1a192a707cf8"
      },
      "execution_count": null,
      "outputs": [
        {
          "output_type": "stream",
          "name": "stdout",
          "text": [
            "0 1 2 3 4 5 6 7 8 9 10 11 12 13 14 15 16 17 18 19 20 21 22 23 24 25 26 27 28 29 30 31 32 33 34 35 36 37 38 39 40 41 42 43 44 45 46 47 48 49 50 51 52 53 54 55 56 57 58 59 60 61 62 63 64 65 66 67 68 69 70 71 72 73 74 75 76 77 78 79 80 81 82 83 84 85 86 87 88 89 90 91 92 93 94 95 96 97 98 99 100 "
          ]
        }
      ]
    },
    {
      "cell_type": "code",
      "source": [
        "# 13)Write a Python program to find the sum of all even numbers between 1 and 500."
      ],
      "metadata": {
        "id": "8tWOskErdw6b"
      },
      "execution_count": null,
      "outputs": []
    },
    {
      "cell_type": "code",
      "source": [
        "total = 0\n",
        "for i in range(1, 501):\n",
        "  if i % 2 == 0:\n",
        "    total += i\n",
        "print(total)"
      ],
      "metadata": {
        "colab": {
          "base_uri": "https://localhost:8080/"
        },
        "id": "u5JDnJPkfkxo",
        "outputId": "ca32e0c0-d432-459c-f8d8-bcea19093440"
      },
      "execution_count": null,
      "outputs": [
        {
          "output_type": "stream",
          "name": "stdout",
          "text": [
            "62750\n"
          ]
        }
      ]
    },
    {
      "cell_type": "code",
      "source": [
        "# 14)Write a program to reverse a string using a while loop."
      ],
      "metadata": {
        "id": "6Q0aEhYKjMmb"
      },
      "execution_count": null,
      "outputs": []
    },
    {
      "cell_type": "code",
      "source": [
        " x = \"abc\"\n",
        " y = \"\"\n",
        " i = len(x) - 1\n",
        " while i >= 0:\n",
        "   y = y + x[i]\n",
        "   i -= 1\n",
        "print(y)"
      ],
      "metadata": {
        "colab": {
          "base_uri": "https://localhost:8080/"
        },
        "id": "4lPI25r5k9YJ",
        "outputId": "049440a0-4d7d-4f75-b558-b6199e85a107"
      },
      "execution_count": 6,
      "outputs": [
        {
          "output_type": "stream",
          "name": "stdout",
          "text": [
            "cba\n"
          ]
        }
      ]
    },
    {
      "cell_type": "code",
      "source": [
        "# 15)Write a Python program to calculate the factorial of a number provided by the user using a while loop."
      ],
      "metadata": {
        "id": "wGRB_2_clU7D"
      },
      "execution_count": null,
      "outputs": []
    },
    {
      "cell_type": "code",
      "source": [
        "x = int(input(\"Enter a number: \"))\n",
        "factorial = 1\n",
        "while x > 0:\n",
        "  factorial *= x\n",
        "  x -= 1\n",
        "print(factorial)"
      ],
      "metadata": {
        "id": "cf4u7MzPloJ_",
        "colab": {
          "base_uri": "https://localhost:8080/"
        },
        "outputId": "91563c18-032c-49b3-b49f-3087d8c6be9d"
      },
      "execution_count": 7,
      "outputs": [
        {
          "output_type": "stream",
          "name": "stdout",
          "text": [
            "Enter a number: 5\n",
            "120\n"
          ]
        }
      ]
    }
  ]
}